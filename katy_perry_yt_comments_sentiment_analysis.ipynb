{
  "nbformat": 4,
  "nbformat_minor": 0,
  "metadata": {
    "colab": {
      "name": "katy_perry_yt_comments_sentiment_analysis.ipynb",
      "provenance": [],
      "mount_file_id": "1Uopvvf--g9uke8SG0Bn1vHVf-ubb0lC2",
      "authorship_tag": "ABX9TyNSpxs+2PFAaQHO8QfY2kZa",
      "include_colab_link": true
    },
    "kernelspec": {
      "name": "python3",
      "display_name": "Python 3"
    },
    "language_info": {
      "name": "python"
    }
  },
  "cells": [
    {
      "cell_type": "markdown",
      "metadata": {
        "id": "view-in-github",
        "colab_type": "text"
      },
      "source": [
        "<a href=\"https://colab.research.google.com/github/tushara19/Sentiment-Analysis/blob/main/katy_perry_yt_comments_sentiment_analysis.ipynb\" target=\"_parent\"><img src=\"https://colab.research.google.com/assets/colab-badge.svg\" alt=\"Open In Colab\"/></a>"
      ]
    },
    {
      "cell_type": "code",
      "execution_count": null,
      "metadata": {
        "id": "e2CvOMV3Waa9"
      },
      "outputs": [],
      "source": [
        "import numpy as np\n",
        "import pandas as pd\n",
        "import matplotlib.pyplot as plt"
      ]
    },
    {
      "cell_type": "code",
      "source": [
        "import nltk\n",
        "from nltk.sentiment.vader import SentimentIntensityAnalyzer\n",
        "nltk.download('vader_lexicon')"
      ],
      "metadata": {
        "colab": {
          "base_uri": "https://localhost:8080/"
        },
        "id": "NsNtxiijWzRj",
        "outputId": "8c434fb8-aa29-4e88-eed4-f6f337f1c71c"
      },
      "execution_count": null,
      "outputs": [
        {
          "output_type": "stream",
          "name": "stdout",
          "text": [
            "[nltk_data] Downloading package vader_lexicon to /root/nltk_data...\n"
          ]
        },
        {
          "output_type": "stream",
          "name": "stderr",
          "text": [
            "/usr/local/lib/python3.7/dist-packages/nltk/twitter/__init__.py:20: UserWarning: The twython library has not been installed. Some functionality from the twitter package will not be available.\n",
            "  warnings.warn(\"The twython library has not been installed. \"\n"
          ]
        },
        {
          "output_type": "execute_result",
          "data": {
            "text/plain": [
              "True"
            ]
          },
          "metadata": {},
          "execution_count": 2
        }
      ]
    },
    {
      "cell_type": "code",
      "source": [
        " !python -m pip install -U pycld2"
      ],
      "metadata": {
        "colab": {
          "base_uri": "https://localhost:8080/"
        },
        "id": "gkcfh_oIW1CE",
        "outputId": "7b57f442-11c6-4abe-dbfc-e3a0585977ed"
      },
      "execution_count": null,
      "outputs": [
        {
          "output_type": "stream",
          "name": "stdout",
          "text": [
            "Looking in indexes: https://pypi.org/simple, https://us-python.pkg.dev/colab-wheels/public/simple/\n",
            "Collecting pycld2\n",
            "  Downloading pycld2-0.41.tar.gz (41.4 MB)\n",
            "\u001b[K     |████████████████████████████████| 41.4 MB 1.4 MB/s \n",
            "\u001b[?25hBuilding wheels for collected packages: pycld2\n",
            "  Building wheel for pycld2 (setup.py) ... \u001b[?25l\u001b[?25hdone\n",
            "  Created wheel for pycld2: filename=pycld2-0.41-cp37-cp37m-linux_x86_64.whl size=9834245 sha256=f99bf1a00c17f08778c9aa8e2227b6705c4b13b119dd288dbfbf73ef51ca4ef2\n",
            "  Stored in directory: /root/.cache/pip/wheels/ed/e4/58/ed2e9f43c07d617cc81fe7aff0fc6e42b16c9cf6afe960b614\n",
            "Successfully built pycld2\n",
            "Installing collected packages: pycld2\n",
            "Successfully installed pycld2-0.41\n"
          ]
        }
      ]
    },
    {
      "cell_type": "code",
      "source": [
        "import pycld2 as cld2"
      ],
      "metadata": {
        "id": "R3SphxtNW7XZ"
      },
      "execution_count": null,
      "outputs": []
    },
    {
      "cell_type": "code",
      "source": [
        "df = pd.read_csv('/content/drive/MyDrive/iiit-h srishti/datasets/Youtube02-KatyPerry.csv')"
      ],
      "metadata": {
        "id": "MheEV6bTWlll"
      },
      "execution_count": null,
      "outputs": []
    },
    {
      "cell_type": "code",
      "source": [
        "df.info()"
      ],
      "metadata": {
        "colab": {
          "base_uri": "https://localhost:8080/"
        },
        "id": "tr_Ak7KpXG4f",
        "outputId": "c5df5e34-0328-44ea-88c1-85ce1ff9dffd"
      },
      "execution_count": null,
      "outputs": [
        {
          "output_type": "stream",
          "name": "stdout",
          "text": [
            "<class 'pandas.core.frame.DataFrame'>\n",
            "RangeIndex: 350 entries, 0 to 349\n",
            "Data columns (total 5 columns):\n",
            " #   Column      Non-Null Count  Dtype \n",
            "---  ------      --------------  ----- \n",
            " 0   COMMENT_ID  350 non-null    object\n",
            " 1   AUTHOR      350 non-null    object\n",
            " 2   DATE        350 non-null    object\n",
            " 3   CONTENT     350 non-null    object\n",
            " 4   CLASS       350 non-null    int64 \n",
            "dtypes: int64(1), object(4)\n",
            "memory usage: 13.8+ KB\n"
          ]
        }
      ]
    },
    {
      "cell_type": "code",
      "source": [
        "df['CONTENT']"
      ],
      "metadata": {
        "colab": {
          "base_uri": "https://localhost:8080/"
        },
        "id": "MIUu3hb_XG2P",
        "outputId": "89c44a01-8a45-4c2f-fbb8-858ec419cdbf"
      },
      "execution_count": null,
      "outputs": [
        {
          "output_type": "execute_result",
          "data": {
            "text/plain": [
              "0      i love this so much. AND also I Generate Free ...\n",
              "1      http://www.billboard.com/articles/columns/pop-...\n",
              "2      Hey guys! Please join me in my fight to help a...\n",
              "3      http://psnboss.com/?ref=2tGgp3pV6L this is the...\n",
              "4      Hey everyone. Watch this trailer!!!!!!!!  http...\n",
              "                             ...                        \n",
              "345    This song means so much to me thank you  soooo...\n",
              "346                                               &lt;3﻿\n",
              "347    KATY PERRY, I AM THE \"DÉCIO CABELO\", \"DECIO HA...\n",
              "348    Honestly speaking except taylor swift and adel...\n",
              "349    who is going to reach the billion first : katy...\n",
              "Name: CONTENT, Length: 350, dtype: object"
            ]
          },
          "metadata": {},
          "execution_count": 7
        }
      ]
    },
    {
      "cell_type": "code",
      "source": [
        "comments = df['CONTENT']\n",
        "st = set()\n",
        "for com in comments:\n",
        "   isReliable, textBytesFound, details = cld2.detect(com)\n",
        "   st.add(details[0][0])\n",
        "print(st)\n",
        "print(len(st))"
      ],
      "metadata": {
        "colab": {
          "base_uri": "https://localhost:8080/"
        },
        "id": "0T-TLEiNXGzE",
        "outputId": "57298042-4fa2-4182-dcab-5939644e7548"
      },
      "execution_count": null,
      "outputs": [
        {
          "output_type": "stream",
          "name": "stdout",
          "text": [
            "{'Unknown', 'PORTUGUESE', 'ENGLISH'}\n",
            "3\n"
          ]
        }
      ]
    },
    {
      "cell_type": "code",
      "source": [
        "for index, row in df.iterrows():\n",
        "    com = row['CONTENT']\n",
        "    isReliable, textBytesFound, details = cld2.detect(com)\n",
        "    if details[0][0] != 'ENGLISH':\n",
        "        df.drop(index, inplace=True)\n",
        "\n",
        "len(df)"
      ],
      "metadata": {
        "colab": {
          "base_uri": "https://localhost:8080/"
        },
        "id": "TE2FPU4BXGuD",
        "outputId": "bb1286ad-9e9b-4568-8694-33834bb5836f"
      },
      "execution_count": null,
      "outputs": [
        {
          "output_type": "execute_result",
          "data": {
            "text/plain": [
              "308"
            ]
          },
          "metadata": {},
          "execution_count": 9
        }
      ]
    },
    {
      "cell_type": "code",
      "source": [
        "df.columns\n"
      ],
      "metadata": {
        "colab": {
          "base_uri": "https://localhost:8080/"
        },
        "id": "kRtxFznEXGnF",
        "outputId": "25046bd0-9551-4c69-ccb3-84a8902c22ef"
      },
      "execution_count": null,
      "outputs": [
        {
          "output_type": "execute_result",
          "data": {
            "text/plain": [
              "Index(['COMMENT_ID', 'AUTHOR', 'DATE', 'CONTENT', 'CLASS'], dtype='object')"
            ]
          },
          "metadata": {},
          "execution_count": 10
        }
      ]
    },
    {
      "cell_type": "code",
      "source": [
        "df['row_id'] = df.index + 1"
      ],
      "metadata": {
        "id": "GMjBe63AXGPd"
      },
      "execution_count": null,
      "outputs": []
    },
    {
      "cell_type": "code",
      "source": [
        "df.columns"
      ],
      "metadata": {
        "colab": {
          "base_uri": "https://localhost:8080/"
        },
        "id": "0HmDw1nIX7uu",
        "outputId": "9e9eb08b-7d8f-42b3-e472-9a5bb30f705f"
      },
      "execution_count": null,
      "outputs": [
        {
          "output_type": "execute_result",
          "data": {
            "text/plain": [
              "Index(['COMMENT_ID', 'AUTHOR', 'DATE', 'CONTENT', 'CLASS', 'row_id'], dtype='object')"
            ]
          },
          "metadata": {},
          "execution_count": 12
        }
      ]
    },
    {
      "cell_type": "code",
      "source": [
        "df_subset = df[['row_id', 'CONTENT']].copy()\n",
        "df_subset['CONTENT'] = df_subset['CONTENT'].str.replace(\"[^a-zA-Z#]\", \" \")\n",
        "df_subset['CONTENT'] = df_subset['CONTENT'].str.casefold()"
      ],
      "metadata": {
        "colab": {
          "base_uri": "https://localhost:8080/"
        },
        "id": "Yb6SIyO7X83n",
        "outputId": "b4a337b2-21ec-45c8-c640-4c176bf805ec"
      },
      "execution_count": null,
      "outputs": [
        {
          "output_type": "stream",
          "name": "stderr",
          "text": [
            "/usr/local/lib/python3.7/dist-packages/ipykernel_launcher.py:2: FutureWarning: The default value of regex will change from True to False in a future version.\n",
            "  \n"
          ]
        }
      ]
    },
    {
      "cell_type": "code",
      "source": [
        "df1=pd.DataFrame()\n",
        "df1['row_id']=['99999999999']\n",
        "df1['sentiment_type']='NA999NA'\n",
        "df1['sentiment_score']=0"
      ],
      "metadata": {
        "id": "Qr3L11ODYlSn"
      },
      "execution_count": null,
      "outputs": []
    },
    {
      "cell_type": "code",
      "source": [
        "sid = SentimentIntensityAnalyzer()\n",
        "t_df = df1\n",
        "for index, row in df_subset.iterrows():\n",
        "    scores = sid.polarity_scores(row[1])\n",
        "    for key, value in scores.items():\n",
        "        temp = [key,value,row[0]]\n",
        "        df1['row_id']=row[0]\n",
        "        df1['sentiment_type']=key\n",
        "        df1['sentiment_score']=value\n",
        "        t_df=t_df.append(df1)\n",
        "\n",
        "\n",
        "#remove dummy row with row_id = 99999999999\n",
        "t_df_cleaned = t_df[t_df.row_id != '99999999999']\n",
        "#remove duplicates if any exist\n",
        "t_df_cleaned = t_df_cleaned.drop_duplicates()\n",
        "# only keep rows where sentiment_type = compound\n",
        "t_df_cleaned = t_df[t_df.sentiment_type == 'compound']\n",
        "\n",
        "print(t_df_cleaned.head(10))"
      ],
      "metadata": {
        "colab": {
          "base_uri": "https://localhost:8080/"
        },
        "id": "cmYcW0lsY3OM",
        "outputId": "e59f3c41-cddb-40ff-cb37-7516928cc8c1"
      },
      "execution_count": null,
      "outputs": [
        {
          "output_type": "stream",
          "name": "stdout",
          "text": [
            "   row_id sentiment_type  sentiment_score\n",
            "0       1       compound           0.8176\n",
            "0       2       compound           0.8658\n",
            "0       3       compound           0.7783\n",
            "0       4       compound           0.0000\n",
            "0       5       compound           0.0000\n",
            "0       6       compound           0.6597\n",
            "0       7       compound           0.0000\n",
            "0       8       compound           0.2500\n",
            "0      10       compound           0.0000\n",
            "0      11       compound           0.9231\n"
          ]
        }
      ]
    },
    {
      "cell_type": "code",
      "source": [
        "df_output = pd.merge(df, t_df_cleaned, on='row_id', how='inner')\n",
        "print(df_output.head(10))"
      ],
      "metadata": {
        "colab": {
          "base_uri": "https://localhost:8080/"
        },
        "id": "XNQSy88RZFCM",
        "outputId": "6c5ce88c-8952-44bf-d8a0-620b0312bbd4"
      },
      "execution_count": null,
      "outputs": [
        {
          "output_type": "stream",
          "name": "stdout",
          "text": [
            "                              COMMENT_ID            AUTHOR  \\\n",
            "0      z12pgdhovmrktzm3i23es5d5junftft3f       lekanaVEVO1   \n",
            "1    z13yx345uxepetggz04ci5rjcxeohzlrtf4          Pyunghee   \n",
            "2  z12lsjvi3wa5x1vwh04cibeaqnzrevxajw00k        Erica Ross   \n",
            "3    z13jcjuovxbwfr0ge04cev2ipsjdfdurwck      Aviel Haimov   \n",
            "4  z13qybua2yfydzxzj04cgfpqdt2syfx53ms0k        John Bello   \n",
            "5  z12rw1o4zvidhdthz04cixxjssq5wzsrlpk0k  Nere Overstylish   \n",
            "6    z13xizvwrki2hf2ev22txvrp2ovcyf3zq04           Jayki L   \n",
            "7    z12ogvgbmre3eloah04ccjbpsmusxdxbwc0            djh3mi   \n",
            "8    z12is34ysrzoy3uwl04cctlxmrekjfuhvig      Mike Bennett   \n",
            "9    z13ijjrgqqyqzfo2t23zfztbtlu4ghg5o04         Lil Misme   \n",
            "\n",
            "                  DATE                                            CONTENT  \\\n",
            "0  2014-07-22T15:27:50  i love this so much. AND also I Generate Free ...   \n",
            "1  2014-07-27T01:57:16  http://www.billboard.com/articles/columns/pop-...   \n",
            "2  2014-07-27T02:51:43  Hey guys! Please join me in my fight to help a...   \n",
            "3  2014-08-01T12:27:48  http://psnboss.com/?ref=2tGgp3pV6L this is the...   \n",
            "4  2014-08-01T21:04:03  Hey everyone. Watch this trailer!!!!!!!!  http...   \n",
            "5  2014-08-02T23:12:49  check out my rapping hope you guys like it  ht...   \n",
            "6  2014-08-03T21:20:41  Subscribe pleaaaase to my instagram account , ...   \n",
            "7  2014-08-06T21:14:15  hey guys!! visit my channel pleaase (i'm searc...   \n",
            "8  2014-08-07T19:40:18                   http://www.twitch.tv/daconnormc﻿   \n",
            "9  2014-08-09T03:01:25  Hey Guys this is Glamour Beauty! I just starte...   \n",
            "\n",
            "   CLASS  row_id sentiment_type  sentiment_score  \n",
            "0      1       1       compound           0.8176  \n",
            "1      1       2       compound           0.8658  \n",
            "2      1       3       compound           0.7783  \n",
            "3      1       4       compound           0.0000  \n",
            "4      1       5       compound           0.0000  \n",
            "5      1       6       compound           0.6597  \n",
            "6      1       7       compound           0.0000  \n",
            "7      1       8       compound           0.2500  \n",
            "8      1      10       compound           0.0000  \n",
            "9      1      11       compound           0.9231  \n"
          ]
        }
      ]
    },
    {
      "cell_type": "code",
      "source": [
        "df_output[[\"sentiment_score\"]].describe()"
      ],
      "metadata": {
        "colab": {
          "base_uri": "https://localhost:8080/",
          "height": 300
        },
        "id": "z0hIad5PZZWd",
        "outputId": "7387bfb5-5bc4-4f99-a1f3-9dc9c6364645"
      },
      "execution_count": null,
      "outputs": [
        {
          "output_type": "execute_result",
          "data": {
            "text/plain": [
              "       sentiment_score\n",
              "count       308.000000\n",
              "mean          0.327406\n",
              "std           0.468299\n",
              "min          -0.884700\n",
              "25%           0.000000\n",
              "50%           0.420800\n",
              "75%           0.709600\n",
              "max           0.988800"
            ],
            "text/html": [
              "\n",
              "  <div id=\"df-9e504755-d109-4552-b484-7a63c5681a82\">\n",
              "    <div class=\"colab-df-container\">\n",
              "      <div>\n",
              "<style scoped>\n",
              "    .dataframe tbody tr th:only-of-type {\n",
              "        vertical-align: middle;\n",
              "    }\n",
              "\n",
              "    .dataframe tbody tr th {\n",
              "        vertical-align: top;\n",
              "    }\n",
              "\n",
              "    .dataframe thead th {\n",
              "        text-align: right;\n",
              "    }\n",
              "</style>\n",
              "<table border=\"1\" class=\"dataframe\">\n",
              "  <thead>\n",
              "    <tr style=\"text-align: right;\">\n",
              "      <th></th>\n",
              "      <th>sentiment_score</th>\n",
              "    </tr>\n",
              "  </thead>\n",
              "  <tbody>\n",
              "    <tr>\n",
              "      <th>count</th>\n",
              "      <td>308.000000</td>\n",
              "    </tr>\n",
              "    <tr>\n",
              "      <th>mean</th>\n",
              "      <td>0.327406</td>\n",
              "    </tr>\n",
              "    <tr>\n",
              "      <th>std</th>\n",
              "      <td>0.468299</td>\n",
              "    </tr>\n",
              "    <tr>\n",
              "      <th>min</th>\n",
              "      <td>-0.884700</td>\n",
              "    </tr>\n",
              "    <tr>\n",
              "      <th>25%</th>\n",
              "      <td>0.000000</td>\n",
              "    </tr>\n",
              "    <tr>\n",
              "      <th>50%</th>\n",
              "      <td>0.420800</td>\n",
              "    </tr>\n",
              "    <tr>\n",
              "      <th>75%</th>\n",
              "      <td>0.709600</td>\n",
              "    </tr>\n",
              "    <tr>\n",
              "      <th>max</th>\n",
              "      <td>0.988800</td>\n",
              "    </tr>\n",
              "  </tbody>\n",
              "</table>\n",
              "</div>\n",
              "      <button class=\"colab-df-convert\" onclick=\"convertToInteractive('df-9e504755-d109-4552-b484-7a63c5681a82')\"\n",
              "              title=\"Convert this dataframe to an interactive table.\"\n",
              "              style=\"display:none;\">\n",
              "        \n",
              "  <svg xmlns=\"http://www.w3.org/2000/svg\" height=\"24px\"viewBox=\"0 0 24 24\"\n",
              "       width=\"24px\">\n",
              "    <path d=\"M0 0h24v24H0V0z\" fill=\"none\"/>\n",
              "    <path d=\"M18.56 5.44l.94 2.06.94-2.06 2.06-.94-2.06-.94-.94-2.06-.94 2.06-2.06.94zm-11 1L8.5 8.5l.94-2.06 2.06-.94-2.06-.94L8.5 2.5l-.94 2.06-2.06.94zm10 10l.94 2.06.94-2.06 2.06-.94-2.06-.94-.94-2.06-.94 2.06-2.06.94z\"/><path d=\"M17.41 7.96l-1.37-1.37c-.4-.4-.92-.59-1.43-.59-.52 0-1.04.2-1.43.59L10.3 9.45l-7.72 7.72c-.78.78-.78 2.05 0 2.83L4 21.41c.39.39.9.59 1.41.59.51 0 1.02-.2 1.41-.59l7.78-7.78 2.81-2.81c.8-.78.8-2.07 0-2.86zM5.41 20L4 18.59l7.72-7.72 1.47 1.35L5.41 20z\"/>\n",
              "  </svg>\n",
              "      </button>\n",
              "      \n",
              "  <style>\n",
              "    .colab-df-container {\n",
              "      display:flex;\n",
              "      flex-wrap:wrap;\n",
              "      gap: 12px;\n",
              "    }\n",
              "\n",
              "    .colab-df-convert {\n",
              "      background-color: #E8F0FE;\n",
              "      border: none;\n",
              "      border-radius: 50%;\n",
              "      cursor: pointer;\n",
              "      display: none;\n",
              "      fill: #1967D2;\n",
              "      height: 32px;\n",
              "      padding: 0 0 0 0;\n",
              "      width: 32px;\n",
              "    }\n",
              "\n",
              "    .colab-df-convert:hover {\n",
              "      background-color: #E2EBFA;\n",
              "      box-shadow: 0px 1px 2px rgba(60, 64, 67, 0.3), 0px 1px 3px 1px rgba(60, 64, 67, 0.15);\n",
              "      fill: #174EA6;\n",
              "    }\n",
              "\n",
              "    [theme=dark] .colab-df-convert {\n",
              "      background-color: #3B4455;\n",
              "      fill: #D2E3FC;\n",
              "    }\n",
              "\n",
              "    [theme=dark] .colab-df-convert:hover {\n",
              "      background-color: #434B5C;\n",
              "      box-shadow: 0px 1px 3px 1px rgba(0, 0, 0, 0.15);\n",
              "      filter: drop-shadow(0px 1px 2px rgba(0, 0, 0, 0.3));\n",
              "      fill: #FFFFFF;\n",
              "    }\n",
              "  </style>\n",
              "\n",
              "      <script>\n",
              "        const buttonEl =\n",
              "          document.querySelector('#df-9e504755-d109-4552-b484-7a63c5681a82 button.colab-df-convert');\n",
              "        buttonEl.style.display =\n",
              "          google.colab.kernel.accessAllowed ? 'block' : 'none';\n",
              "\n",
              "        async function convertToInteractive(key) {\n",
              "          const element = document.querySelector('#df-9e504755-d109-4552-b484-7a63c5681a82');\n",
              "          const dataTable =\n",
              "            await google.colab.kernel.invokeFunction('convertToInteractive',\n",
              "                                                     [key], {});\n",
              "          if (!dataTable) return;\n",
              "\n",
              "          const docLinkHtml = 'Like what you see? Visit the ' +\n",
              "            '<a target=\"_blank\" href=https://colab.research.google.com/notebooks/data_table.ipynb>data table notebook</a>'\n",
              "            + ' to learn more about interactive tables.';\n",
              "          element.innerHTML = '';\n",
              "          dataTable['output_type'] = 'display_data';\n",
              "          await google.colab.output.renderOutput(dataTable, element);\n",
              "          const docLink = document.createElement('div');\n",
              "          docLink.innerHTML = docLinkHtml;\n",
              "          element.appendChild(docLink);\n",
              "        }\n",
              "      </script>\n",
              "    </div>\n",
              "  </div>\n",
              "  "
            ]
          },
          "metadata": {},
          "execution_count": 19
        }
      ]
    },
    {
      "cell_type": "code",
      "source": [
        "import seaborn as sn\n",
        "\n",
        "sn.distplot(df_output['sentiment_score'])\n",
        "plt.plot()"
      ],
      "metadata": {
        "colab": {
          "base_uri": "https://localhost:8080/",
          "height": 352
        },
        "id": "FzgkZnnjZc48",
        "outputId": "d67ce714-6646-458f-de26-d1e21c7ceafe"
      },
      "execution_count": null,
      "outputs": [
        {
          "output_type": "stream",
          "name": "stderr",
          "text": [
            "/usr/local/lib/python3.7/dist-packages/seaborn/distributions.py:2619: FutureWarning: `distplot` is a deprecated function and will be removed in a future version. Please adapt your code to use either `displot` (a figure-level function with similar flexibility) or `histplot` (an axes-level function for histograms).\n",
            "  warnings.warn(msg, FutureWarning)\n"
          ]
        },
        {
          "output_type": "execute_result",
          "data": {
            "text/plain": [
              "[]"
            ]
          },
          "metadata": {},
          "execution_count": 26
        },
        {
          "output_type": "display_data",
          "data": {
            "text/plain": [
              "<Figure size 432x288 with 1 Axes>"
            ],
            "image/png": "[encoded data removed]"
          },
          "metadata": {
            "needs_background": "light"
          }
        }
      ]
    },
    {
      "cell_type": "code",
      "source": [
        "\n",
        "def pltvals(lst):\n",
        "\n",
        "    vals = [0, 0, 0]\n",
        "    for l in lst:\n",
        "        if l < -0.5:\n",
        "           \n",
        "            vals[0] += 1\n",
        "        elif l >= -0.5 and l <= 0.5 :\n",
        "      \n",
        "            vals[1] += 1\n",
        "        else:\n",
        "            vals[2] += 1\n",
        "    return vals\n",
        "\n",
        "vals = pltvals(df_output[ 'sentiment_score'])"
      ],
      "metadata": {
        "id": "OFhch8n4eD_R"
      },
      "execution_count": null,
      "outputs": []
    },
    {
      "cell_type": "code",
      "source": [
        "sentiment_labels = [\"negative\", \"neutral\", \"positive\"]\n",
        "plt.title(\"sentiment analysis of youtube comments of katy perry music video\")\n",
        "plt.pie(vals, labels = sentiment_labels, autopct='%1.1f%%' )\n",
        "plt.show()"
      ],
      "metadata": {
        "colab": {
          "base_uri": "https://localhost:8080/",
          "height": 264
        },
        "id": "E68Us8lGaJxY",
        "outputId": "e8e806ed-51ac-4501-bf9e-898f27967c75"
      },
      "execution_count": null,
      "outputs": [
        {
          "output_type": "display_data",
          "data": {
            "text/plain": [
              "<Figure size 432x288 with 1 Axes>"
            ],
            "image/png": "[encoded data removed]"
          },
          "metadata": {}
        }
      ]
    },
    {
      "cell_type": "code",
      "source": [
        ""
      ],
      "metadata": {
        "id": "OAhvjFQVbtXX"
      },
      "execution_count": null,
      "outputs": []
    }
  ]
}
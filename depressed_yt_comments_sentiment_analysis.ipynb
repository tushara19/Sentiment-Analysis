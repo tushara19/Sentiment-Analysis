{
  "nbformat": 4,
  "nbformat_minor": 0,
  "metadata": {
    "colab": {
      "name": "depressed_yt_comments_sentiment_analysis.ipynb",
      "provenance": [],
      "mount_file_id": "1Uopvvf--g9uke8SG0Bn1vHVf-ubb0lC2",
      "authorship_tag": "ABX9TyMKdmYW9Hrb4oxEOO9/wG+3",
      "include_colab_link": true
    },
    "kernelspec": {
      "name": "python3",
      "display_name": "Python 3"
    },
    "language_info": {
      "name": "python"
    }
  },
  "cells": [
    {
      "cell_type": "markdown",
      "metadata": {
        "id": "view-in-github",
        "colab_type": "text"
      },
      "source": [
        "<a href=\"https://colab.research.google.com/github/tushara19/Sentiment-Analysis/blob/main/depressed_yt_comments_sentiment_analysis.ipynb\" target=\"_parent\"><img src=\"https://colab.research.google.com/assets/colab-badge.svg\" alt=\"Open In Colab\"/></a>"
      ]
    },
    {
      "cell_type": "code",
      "execution_count": 2,
      "metadata": {
        "id": "e2CvOMV3Waa9"
      },
      "outputs": [],
      "source": [
        "import numpy as np\n",
        "import pandas as pd\n",
        "import matplotlib.pyplot as plt"
      ]
    },
    {
      "cell_type": "code",
      "source": [
        "from google.colab import drive\n",
        "drive.mount('/content/drive')"
      ],
      "metadata": {
        "colab": {
          "base_uri": "https://localhost:8080/"
        },
        "id": "WN8OgjaMyvtq",
        "outputId": "bf061e33-97fd-43c0-8e02-4e8de6e3d385"
      },
      "execution_count": 1,
      "outputs": [
        {
          "output_type": "stream",
          "name": "stdout",
          "text": [
            "Mounted at /content/drive\n"
          ]
        }
      ]
    },
    {
      "cell_type": "code",
      "source": [
        "import nltk\n",
        "from nltk.sentiment.vader import SentimentIntensityAnalyzer\n",
        "nltk.download('vader_lexicon')"
      ],
      "metadata": {
        "colab": {
          "base_uri": "https://localhost:8080/"
        },
        "id": "NsNtxiijWzRj",
        "outputId": "d128ab29-d1cc-4c36-e4a9-49697e31d90f"
      },
      "execution_count": 3,
      "outputs": [
        {
          "output_type": "stream",
          "name": "stdout",
          "text": [
            "[nltk_data] Downloading package vader_lexicon to /root/nltk_data...\n"
          ]
        },
        {
          "output_type": "stream",
          "name": "stderr",
          "text": [
            "/usr/local/lib/python3.7/dist-packages/nltk/twitter/__init__.py:20: UserWarning: The twython library has not been installed. Some functionality from the twitter package will not be available.\n",
            "  warnings.warn(\"The twython library has not been installed. \"\n"
          ]
        },
        {
          "output_type": "execute_result",
          "data": {
            "text/plain": [
              "True"
            ]
          },
          "metadata": {},
          "execution_count": 3
        }
      ]
    },
    {
      "cell_type": "code",
      "source": [
        " !python -m pip install -U pycld2"
      ],
      "metadata": {
        "colab": {
          "base_uri": "https://localhost:8080/"
        },
        "id": "gkcfh_oIW1CE",
        "outputId": "e26a204b-4c93-4228-c2b9-c23fcf4c0997"
      },
      "execution_count": 4,
      "outputs": [
        {
          "output_type": "stream",
          "name": "stdout",
          "text": [
            "Looking in indexes: https://pypi.org/simple, https://us-python.pkg.dev/colab-wheels/public/simple/\n",
            "Collecting pycld2\n",
            "  Downloading pycld2-0.41.tar.gz (41.4 MB)\n",
            "\u001b[K     |████████████████████████████████| 41.4 MB 1.2 MB/s \n",
            "\u001b[?25hBuilding wheels for collected packages: pycld2\n",
            "  Building wheel for pycld2 (setup.py) ... \u001b[?25l\u001b[?25hdone\n",
            "  Created wheel for pycld2: filename=pycld2-0.41-cp37-cp37m-linux_x86_64.whl size=9834308 sha256=2eb7c93b914a4e3f062b3bff99931af0e0641af302b356ed6c9c596695be3afd\n",
            "  Stored in directory: /root/.cache/pip/wheels/ed/e4/58/ed2e9f43c07d617cc81fe7aff0fc6e42b16c9cf6afe960b614\n",
            "Successfully built pycld2\n",
            "Installing collected packages: pycld2\n",
            "Successfully installed pycld2-0.41\n"
          ]
        }
      ]
    },
    {
      "cell_type": "code",
      "source": [
        "import pycld2 as cld2"
      ],
      "metadata": {
        "id": "R3SphxtNW7XZ"
      },
      "execution_count": 5,
      "outputs": []
    },
    {
      "cell_type": "code",
      "source": [
        "df = pd.read_csv('/content/drive/MyDrive/iiit-h srishti/datasets/depressed_music_yt_comments.csv')"
      ],
      "metadata": {
        "id": "MheEV6bTWlll"
      },
      "execution_count": 6,
      "outputs": []
    },
    {
      "cell_type": "code",
      "source": [
        "df.info()"
      ],
      "metadata": {
        "colab": {
          "base_uri": "https://localhost:8080/"
        },
        "id": "tr_Ak7KpXG4f",
        "outputId": "d3d6887d-3872-4d34-da06-d32e2c2bdb2d"
      },
      "execution_count": 7,
      "outputs": [
        {
          "output_type": "stream",
          "name": "stdout",
          "text": [
            "<class 'pandas.core.frame.DataFrame'>\n",
            "RangeIndex: 760 entries, 0 to 759\n",
            "Data columns (total 1 columns):\n",
            " #   Column    Non-Null Count  Dtype \n",
            "---  ------    --------------  ----- \n",
            " 0   Comments  760 non-null    object\n",
            "dtypes: object(1)\n",
            "memory usage: 6.1+ KB\n"
          ]
        }
      ]
    },
    {
      "cell_type": "code",
      "source": [
        "df['Comments']"
      ],
      "metadata": {
        "colab": {
          "base_uri": "https://localhost:8080/"
        },
        "id": "MIUu3hb_XG2P",
        "outputId": "6df0bde3-0de4-42be-a716-0584e63ab885"
      },
      "execution_count": 8,
      "outputs": [
        {
          "output_type": "execute_result",
          "data": {
            "text/plain": [
              "0      Here it's for next part\\nPart 2\\nhttps://youtu...\n",
              "1      Our parents thinks we're being dramatic...\\nOu...\n",
              "2      \" No one notice your tears \" \\n\" No one notice...\n",
              "3      My shower doesn't make fun of my body\\r\\nMy pi...\n",
              "4      \"The Lord is near to the brokenhearted, and sa...\n",
              "                             ...                        \n",
              "755                         He didn't know I was sorry.😔\n",
              "756    \"Never say people are just seeking attention, ...\n",
              "757    The comments made this playlist even more pain...\n",
              "758                         esas rolas llegan al corazón\n",
              "759                           2:53 The one that got away\n",
              "Name: Comments, Length: 760, dtype: object"
            ]
          },
          "metadata": {},
          "execution_count": 8
        }
      ]
    },
    {
      "cell_type": "code",
      "source": [
        "comments = df['Comments']\n",
        "st = set()\n",
        "for com in comments:\n",
        "   isReliable, textBytesFound, details = cld2.detect(com)\n",
        "   st.add(details[0][0])\n",
        "print(st)\n",
        "print(len(st))"
      ],
      "metadata": {
        "colab": {
          "base_uri": "https://localhost:8080/"
        },
        "id": "0T-TLEiNXGzE",
        "outputId": "cda7c9bf-1fd3-4db9-c61a-8833137c4a2a"
      },
      "execution_count": 9,
      "outputs": [
        {
          "output_type": "stream",
          "name": "stdout",
          "text": [
            "{'NORWEGIAN_N', 'MALAY', 'ARABIC', 'GERMAN', 'ENGLISH', 'PORTUGUESE', 'VIETNAMESE', 'TURKISH', 'FRENCH', 'INDONESIAN', 'Unknown', 'SPANISH', 'THAI', 'RUSSIAN'}\n",
            "14\n"
          ]
        }
      ]
    },
    {
      "cell_type": "code",
      "source": [
        "for index, row in df.iterrows():\n",
        "    com = row['Comments']\n",
        "    isReliable, textBytesFound, details = cld2.detect(com)\n",
        "    if details[0][0] != 'ENGLISH':\n",
        "        df.drop(index, inplace=True)\n",
        "\n",
        "len(df)"
      ],
      "metadata": {
        "colab": {
          "base_uri": "https://localhost:8080/"
        },
        "id": "TE2FPU4BXGuD",
        "outputId": "ccee3de3-d8d3-4f76-c1c1-00fb8d4abf32"
      },
      "execution_count": 10,
      "outputs": [
        {
          "output_type": "execute_result",
          "data": {
            "text/plain": [
              "671"
            ]
          },
          "metadata": {},
          "execution_count": 10
        }
      ]
    },
    {
      "cell_type": "code",
      "source": [
        "df.columns\n"
      ],
      "metadata": {
        "colab": {
          "base_uri": "https://localhost:8080/"
        },
        "id": "kRtxFznEXGnF",
        "outputId": "25046bd0-9551-4c69-ccb3-84a8902c22ef"
      },
      "execution_count": null,
      "outputs": [
        {
          "output_type": "execute_result",
          "data": {
            "text/plain": [
              "Index(['COMMENT_ID', 'AUTHOR', 'DATE', 'CONTENT', 'CLASS'], dtype='object')"
            ]
          },
          "metadata": {},
          "execution_count": 10
        }
      ]
    },
    {
      "cell_type": "code",
      "source": [
        "df['row_id'] = df.index + 1"
      ],
      "metadata": {
        "id": "GMjBe63AXGPd"
      },
      "execution_count": 11,
      "outputs": []
    },
    {
      "cell_type": "code",
      "source": [
        "df.columns"
      ],
      "metadata": {
        "colab": {
          "base_uri": "https://localhost:8080/"
        },
        "id": "0HmDw1nIX7uu",
        "outputId": "7cabe384-3d26-436a-ab0f-f04b7a188429"
      },
      "execution_count": 12,
      "outputs": [
        {
          "output_type": "execute_result",
          "data": {
            "text/plain": [
              "Index(['Comments', 'row_id'], dtype='object')"
            ]
          },
          "metadata": {},
          "execution_count": 12
        }
      ]
    },
    {
      "cell_type": "code",
      "source": [
        "df_subset = df[['row_id', 'Comments']].copy()\n",
        "df_subset['Comments'] = df_subset['Comments'].str.replace(\"[^a-zA-Z#]\", \" \")\n",
        "df_subset['Comments'] = df_subset['Comments'].str.casefold()"
      ],
      "metadata": {
        "colab": {
          "base_uri": "https://localhost:8080/"
        },
        "id": "Yb6SIyO7X83n",
        "outputId": "21afbd4b-fa36-4be9-fb21-e90309da8c4c"
      },
      "execution_count": 13,
      "outputs": [
        {
          "output_type": "stream",
          "name": "stderr",
          "text": [
            "/usr/local/lib/python3.7/dist-packages/ipykernel_launcher.py:2: FutureWarning: The default value of regex will change from True to False in a future version.\n",
            "  \n"
          ]
        }
      ]
    },
    {
      "cell_type": "code",
      "source": [
        "df1=pd.DataFrame()\n",
        "df1['row_id']=['99999999999']\n",
        "df1['sentiment_type']='NA999NA'\n",
        "df1['sentiment_score']=0"
      ],
      "metadata": {
        "id": "Qr3L11ODYlSn"
      },
      "execution_count": 14,
      "outputs": []
    },
    {
      "cell_type": "code",
      "source": [
        "sid = SentimentIntensityAnalyzer()\n",
        "t_df = df1\n",
        "for index, row in df_subset.iterrows():\n",
        "    scores = sid.polarity_scores(row[1])\n",
        "    for key, value in scores.items():\n",
        "        temp = [key,value,row[0]]\n",
        "        df1['row_id']=row[0]\n",
        "        df1['sentiment_type']=key\n",
        "        df1['sentiment_score']=value\n",
        "        t_df=t_df.append(df1)\n",
        "\n",
        "\n",
        "#remove dummy row with row_id = 99999999999\n",
        "t_df_cleaned = t_df[t_df.row_id != '99999999999']\n",
        "#remove duplicates if any exist\n",
        "t_df_cleaned = t_df_cleaned.drop_duplicates()\n",
        "# only keep rows where sentiment_type = compound\n",
        "t_df_cleaned = t_df[t_df.sentiment_type == 'compound']\n",
        "\n",
        "print(t_df_cleaned.head(10))"
      ],
      "metadata": {
        "colab": {
          "base_uri": "https://localhost:8080/"
        },
        "id": "cmYcW0lsY3OM",
        "outputId": "c442add9-b51e-4abd-9595-c6d3cace715d"
      },
      "execution_count": 15,
      "outputs": [
        {
          "output_type": "stream",
          "name": "stdout",
          "text": [
            "   row_id sentiment_type  sentiment_score\n",
            "0       1       compound           0.0000\n",
            "0       2       compound           0.9906\n",
            "0       3       compound          -0.8625\n",
            "0       4       compound           0.9897\n",
            "0       5       compound          -0.2732\n",
            "0       6       compound           0.4767\n",
            "0       7       compound           0.0000\n",
            "0       8       compound          -0.7184\n",
            "0       9       compound           0.9403\n",
            "0      10       compound           0.9816\n"
          ]
        }
      ]
    },
    {
      "cell_type": "code",
      "source": [
        "df_output = pd.merge(df, t_df_cleaned, on='row_id', how='inner')\n",
        "print(df_output.head(10))"
      ],
      "metadata": {
        "colab": {
          "base_uri": "https://localhost:8080/"
        },
        "id": "XNQSy88RZFCM",
        "outputId": "cb0fb3f6-2e37-4ed3-d1fe-ac3c7678bfa8"
      },
      "execution_count": 16,
      "outputs": [
        {
          "output_type": "stream",
          "name": "stdout",
          "text": [
            "                                            Comments  row_id sentiment_type  \\\n",
            "0  Here it's for next part\\nPart 2\\nhttps://youtu...       1       compound   \n",
            "1  Our parents thinks we're being dramatic...\\nOu...       2       compound   \n",
            "2  \" No one notice your tears \" \\n\" No one notice...       3       compound   \n",
            "3  My shower doesn't make fun of my body\\r\\nMy pi...       4       compound   \n",
            "4  \"The Lord is near to the brokenhearted, and sa...       5       compound   \n",
            "5  When you're happy, you like the music. When yo...       6       compound   \n",
            "6  \"Just because I'm strong enough to handle the ...       7       compound   \n",
            "7  ”if you cry, that doesn’t make you weak, that ...       8       compound   \n",
            "8  They didnt notice you were crying\\r\\nThey did ...       9       compound   \n",
            "9  Me in my bed listening to this and crying into...      10       compound   \n",
            "\n",
            "   sentiment_score  \n",
            "0           0.0000  \n",
            "1           0.9906  \n",
            "2          -0.8625  \n",
            "3           0.9897  \n",
            "4          -0.2732  \n",
            "5           0.4767  \n",
            "6           0.0000  \n",
            "7          -0.7184  \n",
            "8           0.9403  \n",
            "9           0.9816  \n"
          ]
        }
      ]
    },
    {
      "cell_type": "code",
      "source": [
        "df_output[[\"sentiment_score\"]].describe()"
      ],
      "metadata": {
        "colab": {
          "base_uri": "https://localhost:8080/",
          "height": 300
        },
        "id": "z0hIad5PZZWd",
        "outputId": "3a549368-ffde-4af3-db84-d2ac50d9d524"
      },
      "execution_count": 17,
      "outputs": [
        {
          "output_type": "execute_result",
          "data": {
            "text/plain": [
              "       sentiment_score\n",
              "count       671.000000\n",
              "mean          0.093941\n",
              "std           0.575691\n",
              "min          -0.997400\n",
              "25%          -0.419450\n",
              "50%           0.106200\n",
              "75%           0.624900\n",
              "max           0.999800"
            ],
            "text/html": [
              "\n",
              "  <div id=\"df-1e62dfb3-01d8-4c29-a326-906dde96c81c\">\n",
              "    <div class=\"colab-df-container\">\n",
              "      <div>\n",
              "<style scoped>\n",
              "    .dataframe tbody tr th:only-of-type {\n",
              "        vertical-align: middle;\n",
              "    }\n",
              "\n",
              "    .dataframe tbody tr th {\n",
              "        vertical-align: top;\n",
              "    }\n",
              "\n",
              "    .dataframe thead th {\n",
              "        text-align: right;\n",
              "    }\n",
              "</style>\n",
              "<table border=\"1\" class=\"dataframe\">\n",
              "  <thead>\n",
              "    <tr style=\"text-align: right;\">\n",
              "      <th></th>\n",
              "      <th>sentiment_score</th>\n",
              "    </tr>\n",
              "  </thead>\n",
              "  <tbody>\n",
              "    <tr>\n",
              "      <th>count</th>\n",
              "      <td>671.000000</td>\n",
              "    </tr>\n",
              "    <tr>\n",
              "      <th>mean</th>\n",
              "      <td>0.093941</td>\n",
              "    </tr>\n",
              "    <tr>\n",
              "      <th>std</th>\n",
              "      <td>0.575691</td>\n",
              "    </tr>\n",
              "    <tr>\n",
              "      <th>min</th>\n",
              "      <td>-0.997400</td>\n",
              "    </tr>\n",
              "    <tr>\n",
              "      <th>25%</th>\n",
              "      <td>-0.419450</td>\n",
              "    </tr>\n",
              "    <tr>\n",
              "      <th>50%</th>\n",
              "      <td>0.106200</td>\n",
              "    </tr>\n",
              "    <tr>\n",
              "      <th>75%</th>\n",
              "      <td>0.624900</td>\n",
              "    </tr>\n",
              "    <tr>\n",
              "      <th>max</th>\n",
              "      <td>0.999800</td>\n",
              "    </tr>\n",
              "  </tbody>\n",
              "</table>\n",
              "</div>\n",
              "      <button class=\"colab-df-convert\" onclick=\"convertToInteractive('df-1e62dfb3-01d8-4c29-a326-906dde96c81c')\"\n",
              "              title=\"Convert this dataframe to an interactive table.\"\n",
              "              style=\"display:none;\">\n",
              "        \n",
              "  <svg xmlns=\"http://www.w3.org/2000/svg\" height=\"24px\"viewBox=\"0 0 24 24\"\n",
              "       width=\"24px\">\n",
              "    <path d=\"M0 0h24v24H0V0z\" fill=\"none\"/>\n",
              "    <path d=\"M18.56 5.44l.94 2.06.94-2.06 2.06-.94-2.06-.94-.94-2.06-.94 2.06-2.06.94zm-11 1L8.5 8.5l.94-2.06 2.06-.94-2.06-.94L8.5 2.5l-.94 2.06-2.06.94zm10 10l.94 2.06.94-2.06 2.06-.94-2.06-.94-.94-2.06-.94 2.06-2.06.94z\"/><path d=\"M17.41 7.96l-1.37-1.37c-.4-.4-.92-.59-1.43-.59-.52 0-1.04.2-1.43.59L10.3 9.45l-7.72 7.72c-.78.78-.78 2.05 0 2.83L4 21.41c.39.39.9.59 1.41.59.51 0 1.02-.2 1.41-.59l7.78-7.78 2.81-2.81c.8-.78.8-2.07 0-2.86zM5.41 20L4 18.59l7.72-7.72 1.47 1.35L5.41 20z\"/>\n",
              "  </svg>\n",
              "      </button>\n",
              "      \n",
              "  <style>\n",
              "    .colab-df-container {\n",
              "      display:flex;\n",
              "      flex-wrap:wrap;\n",
              "      gap: 12px;\n",
              "    }\n",
              "\n",
              "    .colab-df-convert {\n",
              "      background-color: #E8F0FE;\n",
              "      border: none;\n",
              "      border-radius: 50%;\n",
              "      cursor: pointer;\n",
              "      display: none;\n",
              "      fill: #1967D2;\n",
              "      height: 32px;\n",
              "      padding: 0 0 0 0;\n",
              "      width: 32px;\n",
              "    }\n",
              "\n",
              "    .colab-df-convert:hover {\n",
              "      background-color: #E2EBFA;\n",
              "      box-shadow: 0px 1px 2px rgba(60, 64, 67, 0.3), 0px 1px 3px 1px rgba(60, 64, 67, 0.15);\n",
              "      fill: #174EA6;\n",
              "    }\n",
              "\n",
              "    [theme=dark] .colab-df-convert {\n",
              "      background-color: #3B4455;\n",
              "      fill: #D2E3FC;\n",
              "    }\n",
              "\n",
              "    [theme=dark] .colab-df-convert:hover {\n",
              "      background-color: #434B5C;\n",
              "      box-shadow: 0px 1px 3px 1px rgba(0, 0, 0, 0.15);\n",
              "      filter: drop-shadow(0px 1px 2px rgba(0, 0, 0, 0.3));\n",
              "      fill: #FFFFFF;\n",
              "    }\n",
              "  </style>\n",
              "\n",
              "      <script>\n",
              "        const buttonEl =\n",
              "          document.querySelector('#df-1e62dfb3-01d8-4c29-a326-906dde96c81c button.colab-df-convert');\n",
              "        buttonEl.style.display =\n",
              "          google.colab.kernel.accessAllowed ? 'block' : 'none';\n",
              "\n",
              "        async function convertToInteractive(key) {\n",
              "          const element = document.querySelector('#df-1e62dfb3-01d8-4c29-a326-906dde96c81c');\n",
              "          const dataTable =\n",
              "            await google.colab.kernel.invokeFunction('convertToInteractive',\n",
              "                                                     [key], {});\n",
              "          if (!dataTable) return;\n",
              "\n",
              "          const docLinkHtml = 'Like what you see? Visit the ' +\n",
              "            '<a target=\"_blank\" href=https://colab.research.google.com/notebooks/data_table.ipynb>data table notebook</a>'\n",
              "            + ' to learn more about interactive tables.';\n",
              "          element.innerHTML = '';\n",
              "          dataTable['output_type'] = 'display_data';\n",
              "          await google.colab.output.renderOutput(dataTable, element);\n",
              "          const docLink = document.createElement('div');\n",
              "          docLink.innerHTML = docLinkHtml;\n",
              "          element.appendChild(docLink);\n",
              "        }\n",
              "      </script>\n",
              "    </div>\n",
              "  </div>\n",
              "  "
            ]
          },
          "metadata": {},
          "execution_count": 17
        }
      ]
    },
    {
      "cell_type": "code",
      "source": [
        "import seaborn as sn\n",
        "\n",
        "sn.distplot(df_output['sentiment_score'])\n",
        "plt.plot()"
      ],
      "metadata": {
        "colab": {
          "base_uri": "https://localhost:8080/",
          "height": 352
        },
        "id": "FzgkZnnjZc48",
        "outputId": "a25c819d-35cf-4012-87f6-4dea8cf70f18"
      },
      "execution_count": 18,
      "outputs": [
        {
          "output_type": "stream",
          "name": "stderr",
          "text": [
            "/usr/local/lib/python3.7/dist-packages/seaborn/distributions.py:2619: FutureWarning: `distplot` is a deprecated function and will be removed in a future version. Please adapt your code to use either `displot` (a figure-level function with similar flexibility) or `histplot` (an axes-level function for histograms).\n",
            "  warnings.warn(msg, FutureWarning)\n"
          ]
        },
        {
          "output_type": "execute_result",
          "data": {
            "text/plain": [
              "[]"
            ]
          },
          "metadata": {},
          "execution_count": 18
        },
        {
          "output_type": "display_data",
          "data": {
            "text/plain": [
              "<Figure size 432x288 with 1 Axes>"
            ],
            "image/png": "[encoded data removed]"
          },
          "metadata": {
            "needs_background": "light"
          }
        }
      ]
    },
    {
      "cell_type": "code",
      "source": [
        "\n",
        "def pltvals(lst):\n",
        "\n",
        "    vals = [0, 0, 0]\n",
        "    for l in lst:\n",
        "        if l < -0.5:\n",
        "           \n",
        "            vals[0] += 1\n",
        "        elif l >= -0.5 and l <= 0.5 :\n",
        "      \n",
        "            vals[1] += 1\n",
        "        else:\n",
        "            vals[2] += 1\n",
        "    return vals\n",
        "\n",
        "vals = pltvals(df_output[ 'sentiment_score'])"
      ],
      "metadata": {
        "id": "OFhch8n4eD_R"
      },
      "execution_count": 19,
      "outputs": []
    },
    {
      "cell_type": "code",
      "source": [
        "sentiment_labels = [\"negative\", \"neutral\", \"positive\"]\n",
        "plt.title(\"sentiment analysis of youtube comments of depressed music youtube video\")\n",
        "plt.pie(vals, labels = sentiment_labels, autopct='%1.1f%%' )\n",
        "plt.show()"
      ],
      "metadata": {
        "colab": {
          "base_uri": "https://localhost:8080/",
          "height": 264
        },
        "id": "E68Us8lGaJxY",
        "outputId": "d2756331-2760-4082-ba44-4b3c1de8f47b"
      },
      "execution_count": 21,
      "outputs": [
        {
          "output_type": "display_data",
          "data": {
            "text/plain": [
              "<Figure size 432x288 with 1 Axes>"
            ],
            "image/png": "[encoded data removed]"
          },
          "metadata": {}
        }
      ]
    },
    {
      "cell_type": "code",
      "source": [
        ""
      ],
      "metadata": {
        "id": "OAhvjFQVbtXX"
      },
      "execution_count": null,
      "outputs": []
    }
  ]
}